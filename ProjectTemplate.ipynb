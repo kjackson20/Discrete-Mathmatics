{
  "nbformat": 4,
  "nbformat_minor": 0,
  "metadata": {
    "colab": {
      "name": "Untitled0.ipynb",
      "provenance": [],
      "include_colab_link": true
    },
    "kernelspec": {
      "name": "python3",
      "display_name": "Python 3"
    }
  },
  "cells": [
    {
      "cell_type": "markdown",
      "metadata": {
        "id": "view-in-github",
        "colab_type": "text"
      },
      "source": [
        "<a href=\"https://colab.research.google.com/github/kjackson20/Discrete-Mathmatics/blob/main/ProjectTemplate.ipynb\" target=\"_parent\"><img src=\"https://colab.research.google.com/assets/colab-badge.svg\" alt=\"Open In Colab\"/></a>"
      ]
    },
    {
      "cell_type": "markdown",
      "metadata": {
        "id": "YCJaepmmfKrS"
      },
      "source": [
        "# Project Part 2 # : CPSMA 3913-01 Dr. Matthew Lynam Discrete Mathematics \n",
        "\n",
        "## Project Name: Module 2: Functions and Relations\n",
        "\n",
        "### Student's Kiara Jackson, StudentID#: 204074\n",
        "\n",
        "\n"
      ]
    },
    {
      "cell_type": "markdown",
      "metadata": {
        "id": "Xs_Pvtua1Nnt"
      },
      "source": [
        "###1. Functions"
      ]
    },
    {
      "cell_type": "markdown",
      "source": [
        "###(a)"
      ],
      "metadata": {
        "id": "Gqw8aosw92jC"
      }
    },
    {
      "cell_type": "markdown",
      "metadata": {
        "id": "MMXFYCZ6hajg"
      },
      "source": [
        "Can you guess what I will be doing today?\n",
        "\n",
        "Yes, you've guessed it.\n",
        "\n",
        "I will be defining a function.\n",
        "\n",
        "Not only will I be defining a function. I will be defining a function with at least three features.\n",
        "\n",
        "The function that I will be defining will be a quadratic function, and it looks something like this:\n",
        "\n",
        "$$\n",
        "f(x) = 3x^2-2x+5\n",
        "$$\n",
        "\n",
        "\n",
        "$$\n",
        "3x^2 = one feature\n",
        "$$\n",
        "\n",
        "$$\n",
        "-3 = two features\n",
        "$$\n",
        "\n",
        "$$\n",
        "+5 = three features\n",
        "$$"
      ]
    },
    {
      "cell_type": "markdown",
      "source": [
        "Now, we move on to the math portion.\n",
        "\n",
        "IT'S MATH TIME! IT'S MATH TIME! LET'S DO SOME EQUATIONS! \n",
        "\n",
        "These kid shows that my baby watches, has me wanting to turn everything into a song."
      ],
      "metadata": {
        "id": "heEiZme9mDy7"
      }
    },
    {
      "cell_type": "markdown",
      "source": [
        "I will use 0 in place of x to test my results."
      ],
      "metadata": {
        "id": "_ApEAx3_9NKx"
      }
    },
    {
      "cell_type": "code",
      "source": [
        "import math\n",
        "import numpy as np\n",
        "import matplotlib.pyplot\n",
        "\n",
        "def quadraticfunction(x):\n",
        "  return (3*x**2)-2*x+5\n",
        "\n",
        "quadraticfunction(0)  "
      ],
      "metadata": {
        "id": "xtkz9gR1jabT",
        "outputId": "e0a7836f-fc21-4b0e-c8f0-a36a64f52ba3",
        "colab": {
          "base_uri": "https://localhost:8080/"
        }
      },
      "execution_count": 3,
      "outputs": [
        {
          "output_type": "execute_result",
          "data": {
            "text/plain": [
              "5"
            ]
          },
          "metadata": {},
          "execution_count": 3
        }
      ]
    },
    {
      "cell_type": "markdown",
      "source": [
        "Look, it work! I got a results of 5."
      ],
      "metadata": {
        "id": "WcpcFFqn9EqC"
      }
    },
    {
      "cell_type": "markdown",
      "source": [
        "###(b)"
      ],
      "metadata": {
        "id": "y6tqRg_9-0Wj"
      }
    },
    {
      "cell_type": "markdown",
      "source": [
        "Now, I will graph my function."
      ],
      "metadata": {
        "id": "o2Q_14-eFzvy"
      }
    },
    {
      "cell_type": "code",
      "source": [
        "import matplotlib.pyplot as plt\n",
        "x = np.arange(-5,5.1,.5)\n",
        "\n",
        "plt.plot(x,quadraticfunction(x))"
      ],
      "metadata": {
        "id": "tAJcd9zdASWS",
        "outputId": "4842c39c-7ff1-4a15-cac4-183446b4bf8f",
        "colab": {
          "base_uri": "https://localhost:8080/",
          "height": 282
        }
      },
      "execution_count": 38,
      "outputs": [
        {
          "output_type": "execute_result",
          "data": {
            "text/plain": [
              "[<matplotlib.lines.Line2D at 0x7f7665dc99d0>]"
            ]
          },
          "metadata": {},
          "execution_count": 38
        },
        {
          "output_type": "display_data",
          "data": {
            "text/plain": [
              "<Figure size 432x288 with 1 Axes>"
            ],
            "image/png": "[encoded data removed]"
          },
          "metadata": {
            "needs_background": "light"
          }
        }
      ]
    },
    {
      "cell_type": "markdown",
      "source": [
        "###2. Dictionary"
      ],
      "metadata": {
        "id": "UBqigdLPIU5z"
      }
    },
    {
      "cell_type": "markdown",
      "source": [
        "### (a)"
      ],
      "metadata": {
        "id": "KiG7gpTOQKGJ"
      }
    },
    {
      "cell_type": "markdown",
      "source": [
        "My dictionary will be a relationship based on sets A and B from project 1, that I completed last week.\n",
        "\n",
        "**A** will represents the dinosaurs that are Carnivores and **B** will represent the dinosaurs that are Herbivores. "
      ],
      "metadata": {
        "id": "6a3uLlO4JU8a"
      }
    },
    {
      "cell_type": "code",
      "source": [
        "A = {'Velociraptor', 'Giganotosaurus', 'Tyrannosaurus rex', 'Alectrosaurus', 'Deinonychus'}\n",
        "B = {'Triceratops', 'Iguanodon', 'Stegosaurus', 'Apatosaurus', 'Brachiosaurus'}\n",
        "\n",
        "dictionary = dict({a:b for a,b in zip(A, B)})"
      ],
      "metadata": {
        "id": "Y7GqDVvfJVoO"
      },
      "execution_count": 45,
      "outputs": []
    },
    {
      "cell_type": "code",
      "source": [
        "dictionary"
      ],
      "metadata": {
        "id": "cErW1jewNq6h",
        "outputId": "7950eea9-02d2-457a-a1e8-3417a02d4aae",
        "colab": {
          "base_uri": "https://localhost:8080/"
        }
      },
      "execution_count": 41,
      "outputs": [
        {
          "output_type": "execute_result",
          "data": {
            "text/plain": [
              "{'Giganotosaurus': 'Stegosaurus',\n",
              " 'Deinonychus': 'Iguanodon',\n",
              " 'Alectrosaurus': 'Brachiosaurus',\n",
              " 'Velociraptor': 'Triceratops',\n",
              " 'Tyrannosaurus rex': 'Apatosaurus'}"
            ]
          },
          "metadata": {},
          "execution_count": 41
        }
      ]
    },
    {
      "cell_type": "markdown",
      "source": [
        "### (b)"
      ],
      "metadata": {
        "id": "p-GqIJPCQP9T"
      }
    },
    {
      "cell_type": "markdown",
      "source": [
        "Below I have applied the dictionary to a small set."
      ],
      "metadata": {
        "id": "2gPQ1EqdQaCD"
      }
    },
    {
      "cell_type": "code",
      "source": [
        "actualDictionary = dict({'Tyrannosaurus rex':'Apatosaurus', 'Velociraptor':'Triceratops', 'Deinonychus':'Iguanodon'})"
      ],
      "metadata": {
        "id": "fPlWOt_5RJen"
      },
      "execution_count": 46,
      "outputs": []
    },
    {
      "cell_type": "code",
      "source": [
        "secondlist= [actualDictionary.get(x,x) for x in A]"
      ],
      "metadata": {
        "id": "_kZ4WnbJWE93"
      },
      "execution_count": 47,
      "outputs": []
    },
    {
      "cell_type": "code",
      "source": [
        "secondlist"
      ],
      "metadata": {
        "id": "0v-Mh0XTW1OI",
        "outputId": "ed5346c0-215e-4d54-f284-b2863ff08b2d",
        "colab": {
          "base_uri": "https://localhost:8080/"
        }
      },
      "execution_count": 48,
      "outputs": [
        {
          "output_type": "execute_result",
          "data": {
            "text/plain": [
              "['Giganotosaurus', 'Iguanodon', 'Alectrosaurus', 'Triceratops', 'Apatosaurus']"
            ]
          },
          "metadata": {},
          "execution_count": 48
        }
      ]
    },
    {
      "cell_type": "markdown",
      "source": [
        "The function is considered both one to one and bijective. It is one to one because an element of the range is mapped to an element of the domain. The function is also bijective, both surjective and injective, because each element of the range is mapped only once. \n",
        "\n",
        "I do not need to change the domain to make it bijective. It already meets the requirements to be bijective. "
      ],
      "metadata": {
        "id": "GBKeEyUNbeVB"
      }
    },
    {
      "cell_type": "markdown",
      "source": [
        "I have considered my dictionary as an endo-relation. Based on my results, it is neither reflexive, symmetric, or transitive. \n",
        "\n",
        "In order to be reflexive, every element would have to be related to itself and every element is not related to itself. \n",
        "\n",
        "In order to be symmetric, element A would have to be related to element B and element B would have to be related to element A, and it is not. Element A is not related to element B and element B is not related to element A.\n",
        "\n",
        "In order to be transitive, element A would have to be related to element B, element B would have to be related to element C, and element A would have to be related to element C, and it is not. Element A is no related to elemennt B, element B is not related to element C, and element A is not related to element C. "
      ],
      "metadata": {
        "id": "k8wiD7vpXF1o"
      }
    }
  ]
}